version https://git-lfs.github.com/spec/v1
oid sha256:65a8288613b27d1f1a6638bfe65836101d8c82f2b7ecd2df81db910280e7b0b2
size 1372084
