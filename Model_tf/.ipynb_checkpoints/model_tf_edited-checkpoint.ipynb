version https://git-lfs.github.com/spec/v1
oid sha256:a05eaeee0044c79a4732f264d97becef60cff1e0f8a49cf38fc861abc75bf7a2
size 1372451
