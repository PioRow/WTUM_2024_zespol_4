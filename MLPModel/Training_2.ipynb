version https://git-lfs.github.com/spec/v1
oid sha256:df70d6caf18d5e8492cd3f50046b5659f918ddfc9b30214f97455a3e213eea6b
size 725116
