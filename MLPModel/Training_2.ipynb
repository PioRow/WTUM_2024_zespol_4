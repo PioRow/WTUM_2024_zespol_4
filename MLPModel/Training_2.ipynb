{
 "cells": [
  {
   "cell_type": "code",
   "execution_count": 1,
   "id": "initial_id",
   "metadata": {
    "collapsed": true,
    "ExecuteTime": {
     "end_time": "2024-04-03T21:59:23.382239300Z",
     "start_time": "2024-04-03T21:59:17.704795400Z"
    }
   },
   "outputs": [],
   "source": [
    "import  numpy as np\n",
    "import  torch\n",
    "import  pandas as pd\n",
    "import DataSet_2"
   ]
  },
  {
   "cell_type": "code",
   "outputs": [],
   "source": [
    "FaceData=DataSet_2.TorchFacialFeaturesDataset();"
   ],
   "metadata": {
    "collapsed": false,
    "ExecuteTime": {
     "end_time": "2024-04-03T22:02:46.814445900Z",
     "start_time": "2024-04-03T22:02:38.813754400Z"
    }
   },
   "id": "dd6e87c0ef1d68c2",
   "execution_count": 4
  },
  {
   "cell_type": "code",
   "outputs": [],
   "source": [
    "generator=torch.Generator().manual_seed(69)\n",
    "train_size = int(0.85 * len(FaceData))\n",
    "test_size = len(FaceData) - train_size\n",
    "train_dataset, test_dataset = torch.utils.data.random_split(FaceData, [train_size, test_size],generator=generator)"
   ],
   "metadata": {
    "collapsed": false,
    "ExecuteTime": {
     "end_time": "2024-04-03T22:09:07.983851500Z",
     "start_time": "2024-04-03T22:09:07.975424100Z"
    }
   },
   "id": "eb7ad91b30d13fa8",
   "execution_count": 22
  },
  {
   "cell_type": "code",
   "outputs": [
    {
     "data": {
      "text/plain": "4280"
     },
     "execution_count": 25,
     "metadata": {},
     "output_type": "execute_result"
    }
   ],
   "source": [],
   "metadata": {
    "collapsed": false,
    "ExecuteTime": {
     "end_time": "2024-04-03T22:09:22.903128Z",
     "start_time": "2024-04-03T22:09:22.893859200Z"
    }
   },
   "id": "dda479ed5d043cc7",
   "execution_count": 25
  }
 ],
 "metadata": {
  "kernelspec": {
   "display_name": "Python 3",
   "language": "python",
   "name": "python3"
  },
  "language_info": {
   "codemirror_mode": {
    "name": "ipython",
    "version": 2
   },
   "file_extension": ".py",
   "mimetype": "text/x-python",
   "name": "python",
   "nbconvert_exporter": "python",
   "pygments_lexer": "ipython2",
   "version": "2.7.6"
  }
 },
 "nbformat": 4,
 "nbformat_minor": 5
}
